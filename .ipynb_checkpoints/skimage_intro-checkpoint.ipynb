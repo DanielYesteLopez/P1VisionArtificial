{
 "cells": [
  {
   "cell_type": "markdown",
   "metadata": {},
   "source": [
    "# Short Skimage Tutorial\n",
    "\n",
    "This is a very short introduction to the [Scikit-image library](http://scikit-image.org/), including the main operations for image manipulation.\n",
    "\n",
    "What is an image? Images are n-dimensional arrays where each element corresponds to a pixel. \n",
    "\n",
    "The most common image kinds are:\n",
    "\n",
    "a) grey-level images containing 1 channel of X rows and Y columns.\n",
    "\n",
    "b) RGB /color images containing 3 channels per color (RGB) where each channel/plane is formed by X rows and Y columns.\n",
    "\n",
    "Images manipulated by the Scikit-image library are stored as Numpy arrays.\n",
    "\n",
    " See [A crash course on NumPy for images](http://scikit-image.org/docs/dev/user_guide/numpy_images.html#numpy-indexing) for more information."
   ]
  },
  {
   "cell_type": "markdown",
   "metadata": {},
   "source": [
    "## How to create an image?"
   ]
  },
  {
   "cell_type": "code",
   "execution_count": 1,
   "metadata": {},
   "outputs": [
    {
     "name": "stdout",
     "output_type": "stream",
     "text": [
      "0.0\n",
      "(10, 20)\n",
      "200\n",
      "float64\n"
     ]
    }
   ],
   "source": [
    "import numpy as np\n",
    "\n",
    "image=np.zeros((10,20))\n",
    "print(image[0,1]) #check the pixel value\n",
    "print(image.shape)\n",
    "print(image.size)\n",
    "print(image.dtype)"
   ]
  },
  {
   "cell_type": "code",
   "execution_count": 2,
   "metadata": {},
   "outputs": [
    {
     "name": "stdout",
     "output_type": "stream",
     "text": [
      "1.0\n",
      "[1 2 4]\n",
      "int64\n",
      "[0 1 2]\n",
      "uint8\n",
      "[[0 0 0 0]\n",
      " [0 0 0 0]\n",
      " [0 0 0 0]]\n",
      "uint8\n"
     ]
    }
   ],
   "source": [
    "import numpy as np\n",
    "x = np.float32(1.0) #creating a variabe of type float32\n",
    "print(x)\n",
    "y = np.int_([1,2,4])  #creating an array of type int64\n",
    "print(y)\n",
    "print(y.dtype)\n",
    "z = np.arange(3, dtype=np.uint8)  #creating an array of type uint8\n",
    "print(z)\n",
    "print(z.dtype)\n",
    "z = np.zeros((3, 4), dtype=np.uint8)  #creating a bidimensional array of type uint8\n",
    "print(z)\n",
    "print(z.dtype)"
   ]
  },
  {
   "cell_type": "markdown",
   "metadata": {},
   "source": [
    "Exercise: Create an image of type uint8 specifying its pixel values."
   ]
  },
  {
   "cell_type": "code",
   "execution_count": 3,
   "metadata": {},
   "outputs": [
    {
     "name": "stdout",
     "output_type": "stream",
     "text": [
      "[[  0   0   0]\n",
      " [255 255 255]]\n"
     ]
    }
   ],
   "source": [
    "ii=np.array([[0, 0, 0],[255,255,255]], dtype=np.uint8)\n",
    "print(ii)"
   ]
  },
  {
   "cell_type": "markdown",
   "metadata": {},
   "source": [
    "How to visualize the image?"
   ]
  },
  {
   "cell_type": "code",
   "execution_count": 10,
   "metadata": {},
   "outputs": [
    {
     "data": {
      "text/plain": [
       "<matplotlib.image.AxesImage at 0x7f5c2c666eb8>"
      ]
     },
     "execution_count": 10,
     "metadata": {},
     "output_type": "execute_result"
    },
    {
     "data": {
      "image/png": "[encoded data removed]",
      "text/plain": [
       "<Figure size 432x288 with 1 Axes>"
      ]
     },
     "metadata": {
      "needs_background": "light"
     },
     "output_type": "display_data"
    }
   ],
   "source": [
    "import matplotlib.pyplot as plt\n",
    "\n",
    "plt.imshow(ii, cmap='gray')"
   ]
  },
  {
   "cell_type": "markdown",
   "metadata": {},
   "source": [
    "## Creating a color image"
   ]
  },
  {
   "cell_type": "code",
   "execution_count": 11,
   "metadata": {},
   "outputs": [
    {
     "data": {
      "text/plain": [
       "<matplotlib.image.AxesImage at 0x7f5c2c5d11d0>"
      ]
     },
     "execution_count": 11,
     "metadata": {},
     "output_type": "execute_result"
    },
    {
     "data": {
      "image/png": "[encoded data removed]",
      "text/plain": [
       "<Figure size 432x288 with 1 Axes>"
      ]
     },
     "metadata": {
      "needs_background": "light"
     },
     "output_type": "display_data"
    }
   ],
   "source": [
    "ii=np.zeros((20,30,3), dtype=np.uint8)\n",
    "ii[5,0:29,0]=8*np.arange(29)+15\n",
    "ii[10,0:29,1]=8*np.arange(29)+15\n",
    "ii[15,0:29,2]=8*np.arange(29)+15\n",
    "#[18,0,29] = [255,255,255]\n",
    "plt.imshow(ii)"
   ]
  },
  {
   "cell_type": "markdown",
   "metadata": {},
   "source": [
    "## Reading and writing images\n",
    "\n",
    "Utilities to read and write images in various formats are available in the Module `io`."
   ]
  },
  {
   "cell_type": "code",
   "execution_count": 12,
   "metadata": {},
   "outputs": [
    {
     "ename": "FileNotFoundError",
     "evalue": "No such file: '/home/danielyeste/Documents/ArtificialVision/images/jordan.jpeg'",
     "output_type": "error",
     "traceback": [
      "\u001b[0;31m---------------------------------------------------------------------------\u001b[0m",
      "\u001b[0;31mFileNotFoundError\u001b[0m                         Traceback (most recent call last)",
      "\u001b[0;32m<ipython-input-12-1209864bfa48>\u001b[0m in \u001b[0;36m<module>\u001b[0;34m\u001b[0m\n\u001b[1;32m      1\u001b[0m \u001b[0;32mfrom\u001b[0m \u001b[0mskimage\u001b[0m \u001b[0;32mimport\u001b[0m \u001b[0mio\u001b[0m \u001b[0;31m#necessary to read and write images\u001b[0m\u001b[0;34m\u001b[0m\u001b[0;34m\u001b[0m\u001b[0m\n\u001b[1;32m      2\u001b[0m \u001b[0;34m\u001b[0m\u001b[0m\n\u001b[0;32m----> 3\u001b[0;31m \u001b[0mimg\u001b[0m \u001b[0;34m=\u001b[0m \u001b[0mio\u001b[0m\u001b[0;34m.\u001b[0m\u001b[0mimread\u001b[0m\u001b[0;34m(\u001b[0m\u001b[0;34m'images/jordan.jpeg'\u001b[0m\u001b[0;34m)\u001b[0m\u001b[0;34m\u001b[0m\u001b[0;34m\u001b[0m\u001b[0m\n\u001b[0m\u001b[1;32m      4\u001b[0m \u001b[0;34m\u001b[0m\u001b[0m\n\u001b[1;32m      5\u001b[0m \u001b[0mplt\u001b[0m\u001b[0;34m.\u001b[0m\u001b[0mimshow\u001b[0m\u001b[0;34m(\u001b[0m\u001b[0mimg\u001b[0m\u001b[0;34m)\u001b[0m \u001b[0;31m#Visualizing a figure with the image\u001b[0m\u001b[0;34m\u001b[0m\u001b[0;34m\u001b[0m\u001b[0m\n",
      "\u001b[0;32m~/anaconda3/lib/python3.7/site-packages/skimage/io/_io.py\u001b[0m in \u001b[0;36mimread\u001b[0;34m(fname, as_gray, plugin, flatten, **plugin_args)\u001b[0m\n\u001b[1;32m     59\u001b[0m \u001b[0;34m\u001b[0m\u001b[0m\n\u001b[1;32m     60\u001b[0m     \u001b[0;32mwith\u001b[0m \u001b[0mfile_or_url_context\u001b[0m\u001b[0;34m(\u001b[0m\u001b[0mfname\u001b[0m\u001b[0;34m)\u001b[0m \u001b[0;32mas\u001b[0m \u001b[0mfname\u001b[0m\u001b[0;34m:\u001b[0m\u001b[0;34m\u001b[0m\u001b[0;34m\u001b[0m\u001b[0m\n\u001b[0;32m---> 61\u001b[0;31m         \u001b[0mimg\u001b[0m \u001b[0;34m=\u001b[0m \u001b[0mcall_plugin\u001b[0m\u001b[0;34m(\u001b[0m\u001b[0;34m'imread'\u001b[0m\u001b[0;34m,\u001b[0m \u001b[0mfname\u001b[0m\u001b[0;34m,\u001b[0m \u001b[0mplugin\u001b[0m\u001b[0;34m=\u001b[0m\u001b[0mplugin\u001b[0m\u001b[0;34m,\u001b[0m \u001b[0;34m**\u001b[0m\u001b[0mplugin_args\u001b[0m\u001b[0;34m)\u001b[0m\u001b[0;34m\u001b[0m\u001b[0;34m\u001b[0m\u001b[0m\n\u001b[0m\u001b[1;32m     62\u001b[0m \u001b[0;34m\u001b[0m\u001b[0m\n\u001b[1;32m     63\u001b[0m     \u001b[0;32mif\u001b[0m \u001b[0;32mnot\u001b[0m \u001b[0mhasattr\u001b[0m\u001b[0;34m(\u001b[0m\u001b[0mimg\u001b[0m\u001b[0;34m,\u001b[0m \u001b[0;34m'ndim'\u001b[0m\u001b[0;34m)\u001b[0m\u001b[0;34m:\u001b[0m\u001b[0;34m\u001b[0m\u001b[0;34m\u001b[0m\u001b[0m\n",
      "\u001b[0;32m~/anaconda3/lib/python3.7/site-packages/skimage/io/manage_plugins.py\u001b[0m in \u001b[0;36mcall_plugin\u001b[0;34m(kind, *args, **kwargs)\u001b[0m\n\u001b[1;32m    208\u001b[0m                                (plugin, kind))\n\u001b[1;32m    209\u001b[0m \u001b[0;34m\u001b[0m\u001b[0m\n\u001b[0;32m--> 210\u001b[0;31m     \u001b[0;32mreturn\u001b[0m \u001b[0mfunc\u001b[0m\u001b[0;34m(\u001b[0m\u001b[0;34m*\u001b[0m\u001b[0margs\u001b[0m\u001b[0;34m,\u001b[0m \u001b[0;34m**\u001b[0m\u001b[0mkwargs\u001b[0m\u001b[0;34m)\u001b[0m\u001b[0;34m\u001b[0m\u001b[0;34m\u001b[0m\u001b[0m\n\u001b[0m\u001b[1;32m    211\u001b[0m \u001b[0;34m\u001b[0m\u001b[0m\n\u001b[1;32m    212\u001b[0m \u001b[0;34m\u001b[0m\u001b[0m\n",
      "\u001b[0;32m~/anaconda3/lib/python3.7/site-packages/imageio/core/functions.py\u001b[0m in \u001b[0;36mimread\u001b[0;34m(uri, format, **kwargs)\u001b[0m\n\u001b[1;32m    219\u001b[0m \u001b[0;34m\u001b[0m\u001b[0m\n\u001b[1;32m    220\u001b[0m     \u001b[0;31m# Get reader and read first\u001b[0m\u001b[0;34m\u001b[0m\u001b[0;34m\u001b[0m\u001b[0;34m\u001b[0m\u001b[0m\n\u001b[0;32m--> 221\u001b[0;31m     \u001b[0mreader\u001b[0m \u001b[0;34m=\u001b[0m \u001b[0mread\u001b[0m\u001b[0;34m(\u001b[0m\u001b[0muri\u001b[0m\u001b[0;34m,\u001b[0m \u001b[0mformat\u001b[0m\u001b[0;34m,\u001b[0m \u001b[0;34m\"i\"\u001b[0m\u001b[0;34m,\u001b[0m \u001b[0;34m**\u001b[0m\u001b[0mkwargs\u001b[0m\u001b[0;34m)\u001b[0m\u001b[0;34m\u001b[0m\u001b[0;34m\u001b[0m\u001b[0m\n\u001b[0m\u001b[1;32m    222\u001b[0m     \u001b[0;32mwith\u001b[0m \u001b[0mreader\u001b[0m\u001b[0;34m:\u001b[0m\u001b[0;34m\u001b[0m\u001b[0;34m\u001b[0m\u001b[0m\n\u001b[1;32m    223\u001b[0m         \u001b[0;32mreturn\u001b[0m \u001b[0mreader\u001b[0m\u001b[0;34m.\u001b[0m\u001b[0mget_data\u001b[0m\u001b[0;34m(\u001b[0m\u001b[0;36m0\u001b[0m\u001b[0;34m)\u001b[0m\u001b[0;34m\u001b[0m\u001b[0;34m\u001b[0m\u001b[0m\n",
      "\u001b[0;32m~/anaconda3/lib/python3.7/site-packages/imageio/core/functions.py\u001b[0m in \u001b[0;36mget_reader\u001b[0;34m(uri, format, mode, **kwargs)\u001b[0m\n\u001b[1;32m    128\u001b[0m \u001b[0;34m\u001b[0m\u001b[0m\n\u001b[1;32m    129\u001b[0m     \u001b[0;31m# Create request object\u001b[0m\u001b[0;34m\u001b[0m\u001b[0;34m\u001b[0m\u001b[0;34m\u001b[0m\u001b[0m\n\u001b[0;32m--> 130\u001b[0;31m     \u001b[0mrequest\u001b[0m \u001b[0;34m=\u001b[0m \u001b[0mRequest\u001b[0m\u001b[0;34m(\u001b[0m\u001b[0muri\u001b[0m\u001b[0;34m,\u001b[0m \u001b[0;34m\"r\"\u001b[0m \u001b[0;34m+\u001b[0m \u001b[0mmode\u001b[0m\u001b[0;34m,\u001b[0m \u001b[0;34m**\u001b[0m\u001b[0mkwargs\u001b[0m\u001b[0;34m)\u001b[0m\u001b[0;34m\u001b[0m\u001b[0;34m\u001b[0m\u001b[0m\n\u001b[0m\u001b[1;32m    131\u001b[0m \u001b[0;34m\u001b[0m\u001b[0m\n\u001b[1;32m    132\u001b[0m     \u001b[0;31m# Get format\u001b[0m\u001b[0;34m\u001b[0m\u001b[0;34m\u001b[0m\u001b[0;34m\u001b[0m\u001b[0m\n",
      "\u001b[0;32m~/anaconda3/lib/python3.7/site-packages/imageio/core/request.py\u001b[0m in \u001b[0;36m__init__\u001b[0;34m(self, uri, mode, **kwargs)\u001b[0m\n\u001b[1;32m    124\u001b[0m \u001b[0;34m\u001b[0m\u001b[0m\n\u001b[1;32m    125\u001b[0m         \u001b[0;31m# Parse what was given\u001b[0m\u001b[0;34m\u001b[0m\u001b[0;34m\u001b[0m\u001b[0;34m\u001b[0m\u001b[0m\n\u001b[0;32m--> 126\u001b[0;31m         \u001b[0mself\u001b[0m\u001b[0;34m.\u001b[0m\u001b[0m_parse_uri\u001b[0m\u001b[0;34m(\u001b[0m\u001b[0muri\u001b[0m\u001b[0;34m)\u001b[0m\u001b[0;34m\u001b[0m\u001b[0;34m\u001b[0m\u001b[0m\n\u001b[0m\u001b[1;32m    127\u001b[0m \u001b[0;34m\u001b[0m\u001b[0m\n\u001b[1;32m    128\u001b[0m         \u001b[0;31m# Set extension\u001b[0m\u001b[0;34m\u001b[0m\u001b[0;34m\u001b[0m\u001b[0;34m\u001b[0m\u001b[0m\n",
      "\u001b[0;32m~/anaconda3/lib/python3.7/site-packages/imageio/core/request.py\u001b[0m in \u001b[0;36m_parse_uri\u001b[0;34m(self, uri)\u001b[0m\n\u001b[1;32m    276\u001b[0m                 \u001b[0;31m# Reading: check that the file exists (but is allowed a dir)\u001b[0m\u001b[0;34m\u001b[0m\u001b[0;34m\u001b[0m\u001b[0;34m\u001b[0m\u001b[0m\n\u001b[1;32m    277\u001b[0m                 \u001b[0;32mif\u001b[0m \u001b[0;32mnot\u001b[0m \u001b[0mos\u001b[0m\u001b[0;34m.\u001b[0m\u001b[0mpath\u001b[0m\u001b[0;34m.\u001b[0m\u001b[0mexists\u001b[0m\u001b[0;34m(\u001b[0m\u001b[0mfn\u001b[0m\u001b[0;34m)\u001b[0m\u001b[0;34m:\u001b[0m\u001b[0;34m\u001b[0m\u001b[0;34m\u001b[0m\u001b[0m\n\u001b[0;32m--> 278\u001b[0;31m                     \u001b[0;32mraise\u001b[0m \u001b[0mFileNotFoundError\u001b[0m\u001b[0;34m(\u001b[0m\u001b[0;34m\"No such file: '%s'\"\u001b[0m \u001b[0;34m%\u001b[0m \u001b[0mfn\u001b[0m\u001b[0;34m)\u001b[0m\u001b[0;34m\u001b[0m\u001b[0;34m\u001b[0m\u001b[0m\n\u001b[0m\u001b[1;32m    279\u001b[0m             \u001b[0;32melse\u001b[0m\u001b[0;34m:\u001b[0m\u001b[0;34m\u001b[0m\u001b[0;34m\u001b[0m\u001b[0m\n\u001b[1;32m    280\u001b[0m                 \u001b[0;31m# Writing: check that the directory to write to does exist\u001b[0m\u001b[0;34m\u001b[0m\u001b[0;34m\u001b[0m\u001b[0;34m\u001b[0m\u001b[0m\n",
      "\u001b[0;31mFileNotFoundError\u001b[0m: No such file: '/home/danielyeste/Documents/ArtificialVision/images/jordan.jpeg'"
     ]
    }
   ],
   "source": [
    "from skimage import io #necessary to read and write images\n",
    "\n",
    "img = io.imread('images/jordan.jpeg')\n",
    "\n",
    "plt.imshow(img) #Visualizing a figure with the image\n",
    "plt.show() \n",
    "\n",
    "img2 = img-50\n",
    "io.imsave('images/dark_image.bmp',img2)"
   ]
  },
  {
   "cell_type": "markdown",
   "metadata": {},
   "source": [
    "**Exercise**: Visualize the image you just stored on the disk.\n",
    "Can you explain what happened?"
   ]
  },
  {
   "cell_type": "markdown",
   "metadata": {},
   "source": [
    "Scikit-image provides a set of [standard test images](http://scikit-image.org/docs/dev/api/skimage.data.html?highlight=imread#skimage.data.imread) in the Module `data`: astronaut, binary_blobs, camera, checkerboard, chelsea, clock, coffee, coins, etc."
   ]
  },
  {
   "cell_type": "code",
   "execution_count": null,
   "metadata": {},
   "outputs": [],
   "source": [
    "from skimage import data\n",
    "\n",
    "camera = data.camera()\n",
    "print(type(camera))\n",
    "print(camera.shape)\n",
    "print(camera.size)\n",
    "plt.imshow(camera)\n",
    "plt.show()\n",
    "plt.imshow(camera, cmap='gray') # we can visualize the image 'camera' in gray scale colormap, \n",
    "                                #you can look at matplotlib for different colormaps\n",
    "plt.show()"
   ]
  },
  {
   "cell_type": "markdown",
   "metadata": {},
   "source": [
    "## Basic image manipulation\n",
    "\n",
    "NumPy arrays representing images can be of different numerical types, such as integer or float. \n",
    "\n",
    "See [Image data types and what they mean](http://scikit-image.org/docs/dev/user_guide/data_types.html#data-types) for more information about these types and how scikit-image treats them.\n",
    "\n",
    "How shall we change the type of an image?"
   ]
  },
  {
   "cell_type": "code",
   "execution_count": 13,
   "metadata": {},
   "outputs": [
    {
     "name": "stdout",
     "output_type": "stream",
     "text": [
      "[ 0 10 20 30 40]\n"
     ]
    }
   ],
   "source": [
    "from skimage import img_as_float\n",
    "import numpy as np\n",
    "\n",
    "image = np.arange(0, 50, 10, dtype=np.uint8) # arange function defines a vector from 0 to 50 in steps of 10.\n",
    "print(image)\n"
   ]
  },
  {
   "cell_type": "markdown",
   "metadata": {},
   "source": [
    "What is the difference between the two following operations?"
   ]
  },
  {
   "cell_type": "code",
   "execution_count": 14,
   "metadata": {},
   "outputs": [
    {
     "name": "stdout",
     "output_type": "stream",
     "text": [
      "[ 0. 10. 20. 30. 40.]\n",
      "[0.         0.03921569 0.07843137 0.11764706 0.15686275]\n"
     ]
    }
   ],
   "source": [
    "print(image.astype(np.float))\n",
    "print(img_as_float(image))"
   ]
  },
  {
   "cell_type": "markdown",
   "metadata": {},
   "source": [
    "Can you explain the following code?"
   ]
  },
  {
   "cell_type": "code",
   "execution_count": 15,
   "metadata": {},
   "outputs": [
    {
     "name": "stdout",
     "output_type": "stream",
     "text": [
      "im1[2]:  100.0\n",
      "image[2]:  20\n",
      "image[2]:  20\n"
     ]
    }
   ],
   "source": [
    "image.astype(np.float)[2]=5\n",
    "im1=image.astype(np.float)\n",
    "im1[2]=100\n",
    "print(\"im1[2]: \",im1[2])\n",
    "print(\"image[2]: \", image[2])\n",
    "img_as_float(image)[2]=0.5\n",
    "print(\"image[2]: \", image[2])"
   ]
  },
  {
   "cell_type": "markdown",
   "metadata": {},
   "source": [
    "How to convert an image from `uint8` to `float`? And from `float` to `uint8`? Utilizando astype o img as float"
   ]
  },
  {
   "cell_type": "markdown",
   "metadata": {
    "collapsed": true
   },
   "source": [
    "## Spatial and photometric resolution: \n",
    "### Function `rescale` \n",
    "\n",
    "Sometimes we need to change the spatial and photometric resolution of an image. For this, we will use functions like rescale and resize. Consider the following example:"
   ]
  },
  {
   "cell_type": "code",
   "execution_count": null,
   "metadata": {},
   "outputs": [],
   "source": [
    "from skimage import data\n",
    "from skimage.transform import rescale\n",
    "\n",
    "image = data.coins()\n",
    "print(image.dtype, image.min(), image.max(), image.shape)"
   ]
  },
  {
   "cell_type": "code",
   "execution_count": null,
   "metadata": {},
   "outputs": [],
   "source": [
    "rescaled = rescale(image, 0.5)\n",
    "print(rescaled.dtype, np.round(rescaled.min(),4), np.round(rescaled.max(),4), rescaled.shape)"
   ]
  },
  {
   "cell_type": "markdown",
   "metadata": {},
   "source": [
    "What does the function rescale do? Check skimage documentation. What is the difference with the resize command?"
   ]
  },
  {
   "cell_type": "code",
   "execution_count": null,
   "metadata": {},
   "outputs": [],
   "source": [
    "rescaled2 = rescale(image, 0.5, preserve_range=True)\n",
    "print(rescaled2.dtype, np.round(rescaled2.min(),4), np.round(rescaled2.max(),4), rescaled2.shape)\n",
    "\n",
    "\n",
    "plt.imshow(rescaled)\n",
    "plt.show()\n",
    "plt.imshow(rescaled2)\n",
    "plt.show()"
   ]
  },
  {
   "cell_type": "markdown",
   "metadata": {},
   "source": [
    "How to rescale intensity values?"
   ]
  },
  {
   "cell_type": "code",
   "execution_count": null,
   "metadata": {},
   "outputs": [],
   "source": [
    "camera = data.camera()\n",
    "print(camera.dtype, camera.max(), camera.min(), camera.shape)\n",
    "plt.imshow(camera, cmap='gray')\n",
    "plt.show()"
   ]
  },
  {
   "cell_type": "code",
   "execution_count": null,
   "metadata": {},
   "outputs": [],
   "source": [
    "camera2 = camera/2\n",
    "print(camera2.dtype, camera2.max(), camera2.min(), camera2.shape)\n",
    "plt.imshow(camera2, cmap='gray')\n",
    "plt.show()\n",
    "plt.imshow(camera2, cmap='gray', vmin=camera2.min(), vmax=camera2.max())\n",
    "plt.show()\n",
    "plt.imshow(camera2, cmap='gray', vmin=0, vmax=255)\n",
    "plt.show()"
   ]
  },
  {
   "cell_type": "code",
   "execution_count": null,
   "metadata": {},
   "outputs": [],
   "source": [
    "camera3 = camera2+100\n",
    "print(camera3.max(), camera3.min(), camera3.shape)\n",
    "plt.imshow(camera3, cmap='gray', vmin=0, vmax=255)\n",
    "plt.show()"
   ]
  },
  {
   "cell_type": "markdown",
   "metadata": {},
   "source": [
    "What is the difference between rescale and resize?"
   ]
  },
  {
   "cell_type": "code",
   "execution_count": null,
   "metadata": {},
   "outputs": [],
   "source": [
    "from skimage.transform import resize\n",
    "from skimage import img_as_ubyte # img_as_ubyte Convert an image to 8-bit unsigned integer format\n",
    "\n",
    "camera4 = img_as_ubyte(resize(camera,(64,64))) \n",
    "print(camera4.max(), camera4.min(), camera4.shape)\n",
    "plt.imshow(camera4, cmap='gray', vmin=0, vmax=255)\n",
    "plt.show()"
   ]
  },
  {
   "cell_type": "markdown",
   "metadata": {},
   "source": [
    "More examples can be seen in the [Matplotlib Image tutorial](https://matplotlib.org/users/image_tutorial.html)."
   ]
  },
  {
   "cell_type": "markdown",
   "metadata": {},
   "source": [
    "## Color (RGB) images\n",
    "\n",
    "A color image is a NumPy array, with an additional trailing dimension for the channels. See [Scikit-image Color images](http://scikit-image.org/docs/dev/user_guide/numpy_images.html#color-images) for more information."
   ]
  },
  {
   "cell_type": "code",
   "execution_count": null,
   "metadata": {},
   "outputs": [],
   "source": [
    "cat = data.chelsea()\n",
    "print(type(cat))\n",
    "print(cat.shape)\n",
    "plt.imshow(cat)\n",
    "plt.show()"
   ]
  },
  {
   "cell_type": "markdown",
   "metadata": {},
   "source": [
    "Remember the way `numpy` allows us to index certain positions in a matrix. If we have a matrix `M`, we can access to a certain pixel `(i,j)` using the command `M[i,j]`, where `i` is the row and `j` the column. In order to index all the positions, we have to use the character `:`."
   ]
  },
  {
   "cell_type": "code",
   "execution_count": null,
   "metadata": {},
   "outputs": [],
   "source": [
    "cat[230:255, 220:285] = 0 # set the pixels at rows from 230 to 255, columns from 220 to 285 to black\n",
    "plt.imshow(cat)\n",
    "plt.show()\n",
    "\n",
    "cat[50:65, 61] = [0, 255, 0] # set the pixel at row 50, column 61 to green; remember [red, green, blue]\n",
    "plt.imshow(cat)\n",
    "plt.show()"
   ]
  },
  {
   "cell_type": "code",
   "execution_count": null,
   "metadata": {},
   "outputs": [],
   "source": [
    "cat = data.chelsea()\n",
    "reddish = cat[:, :, 0] > 160\n",
    "cat[reddish] = [0, 255, 0]\n",
    "plt.imshow(cat)\n",
    "plt.show()"
   ]
  },
  {
   "cell_type": "markdown",
   "metadata": {},
   "source": [
    "Note that it is always much faster to iterate on the rightmost indices. See the following example:"
   ]
  },
  {
   "cell_type": "code",
   "execution_count": null,
   "metadata": {},
   "outputs": [],
   "source": [
    "def in_order_multiply(arr, scalar):\n",
    "     for plane in range(arr.shape[0]):\n",
    "         arr[plane, :, :] *= scalar\n",
    "\n",
    "def out_of_order_multiply(arr, scalar):\n",
    "     for plane in range(arr.shape[2]):\n",
    "         arr[:, :, plane] *= scalar\n",
    "\n",
    "import time\n",
    "im3d = np.random.rand(100, 1024, 1024)\n",
    "t0 = time.time(); x = in_order_multiply(im3d, 5); t1 = time.time()\n",
    "\n",
    "print(\"%.2f seconds\" % (t1 - t0))  \n",
    "\n",
    "im3d_t = np.transpose(im3d).copy() # place \"planes\" dimension at end\n",
    "im3d_t.shape\n",
    "s0 = time.time(); x = out_of_order_multiply(im3d, 5); s1 = time.time()\n",
    "\n",
    "print(\"%.2f seconds\" % (s1 - s0))  \n",
    "print(\"Speedup: %.1fx\" % ((s1 - s0) / (t1 - t0)))  "
   ]
  },
  {
   "cell_type": "markdown",
   "metadata": {},
   "source": [
    "Addendum to dimension names and orders in Scikit-image:\n",
    "\n",
    "Image type: 2D color video       \n",
    "Coordinates: (t, row, col, ch)"
   ]
  },
  {
   "cell_type": "markdown",
   "metadata": {},
   "source": [
    "## Image adjustment: transforming image content\n",
    "\n",
    "\n",
    "### Color manipulation\n",
    "\n",
    "Most functions for manipulating color channels are found in the Module `color`. See [Scikit-image Color manipulation](http://scikit-image.org/docs/dev/user_guide/transforming_image_data.html) for more information."
   ]
  },
  {
   "cell_type": "code",
   "execution_count": null,
   "metadata": {},
   "outputs": [],
   "source": [
    "from skimage import color\n",
    "\n",
    "# bright saturated red\n",
    "red_pixel_rgb = np.array([[[255, 0, 0]]], dtype=np.uint8)\n",
    "plt.imshow(red_pixel_rgb)\n",
    "plt.show()\n",
    "print(red_pixel_rgb.shape)\n"
   ]
  },
  {
   "cell_type": "code",
   "execution_count": null,
   "metadata": {},
   "outputs": [],
   "source": [
    "# darker saturated blue\n",
    "dark_blue_pixel_rgb = np.array([[[0, 0, 100]]], dtype=np.uint8)\n",
    "plt.imshow(dark_blue_pixel_rgb)\n",
    "plt.show()\n",
    "print(dark_blue_pixel_rgb.shape)\n"
   ]
  },
  {
   "cell_type": "code",
   "execution_count": null,
   "metadata": {},
   "outputs": [],
   "source": [
    "# less saturated pink\n",
    "pink_pixel_rgb = np.array([[[255, 100, 255]]], dtype=np.uint8)\n",
    "plt.imshow(pink_pixel_rgb)\n",
    "plt.show()\n"
   ]
  },
  {
   "cell_type": "markdown",
   "metadata": {},
   "source": [
    "### Conversion from RGBA to RGB - Removing alpha channel through alpha blending\n",
    "\n",
    "Often you can find color images in format [RGBA](https://en.wikipedia.org/wiki/Alpha_compositing#Alpha_blending). The forth component shows the coefficient of blending of each channel. Converting an RGBA image to an RGB image by alpha blending it with a background is performend by the command `rgba2rgb()`."
   ]
  },
  {
   "cell_type": "code",
   "execution_count": null,
   "metadata": {},
   "outputs": [],
   "source": [
    "from skimage.color import rgba2rgb\n",
    "# RGBA has 24 bits for RGB color, bit there is an additional 8 bit value for transparency.\n",
    "\n",
    "img_rgba = data.logo()\n",
    "print(\"dtype: \", img_rgba.dtype)\n",
    "print('shape: ', img_rgba.shape)\n",
    "plt.imshow(img_rgba)\n",
    "plt.show()"
   ]
  },
  {
   "cell_type": "code",
   "execution_count": null,
   "metadata": {},
   "outputs": [],
   "source": [
    "img_rgb = rgba2rgb(img_rgba)\n",
    "print(\"dtype: \", img_rgba.dtype)\n",
    "print('shape: ', img_rgba.shape)\n",
    "plt.imshow(img_rgb)\n",
    "plt.show()\n"
   ]
  },
  {
   "cell_type": "markdown",
   "metadata": {},
   "source": [
    "### Conversion between color and gray values\n",
    "\n",
    "Often we will need rto convert color images to gray level images. Converting an RGB image to a grayscale image is per with `rgb2gray()`"
   ]
  },
  {
   "cell_type": "code",
   "execution_count": null,
   "metadata": {},
   "outputs": [],
   "source": [
    "from skimage.color import rgb2gray\n",
    "\n",
    "img = data.astronaut()\n",
    "plt.imshow(img)\n",
    "plt.show()\n",
    "print (\"Note that dtype: \", img.dtype, \"gray.max: \", img.max()) "
   ]
  },
  {
   "cell_type": "code",
   "execution_count": null,
   "metadata": {},
   "outputs": [],
   "source": [
    "img_gray = rgb2gray(img)\n",
    "plt.imshow(img_gray, cmap='gray')\n",
    "plt.show()\n",
    "print (\"dtype: \", img_gray.dtype, \"gray.max: \", img_gray.max())"
   ]
  },
  {
   "cell_type": "code",
   "execution_count": null,
   "metadata": {},
   "outputs": [],
   "source": [
    "red_pixel = np.array([[[255, 0, 0]]], dtype=np.uint8)\n",
    "print(\"Red to gray: \", rgb2gray(red_pixel))\n",
    "\n",
    "green_pixel = np.array([[[0, 255, 0]]], dtype=np.uint8)\n",
    "print (\"Green to gray: \", rgb2gray(green_pixel))\n"
   ]
  },
  {
   "cell_type": "markdown",
   "metadata": {},
   "source": [
    "Given a gray image, how would it be looking if it is converted to RGB values? "
   ]
  },
  {
   "cell_type": "markdown",
   "metadata": {},
   "source": [
    "## Displaying  images and graphics"
   ]
  },
  {
   "cell_type": "markdown",
   "metadata": {},
   "source": [
    "[Matplotlib](https://matplotlib.org/index.html) is a Python 2D plotting library which produces publication quality figures in a variety of hardcopy formats and interactive environments across platforms. "
   ]
  },
  {
   "cell_type": "code",
   "execution_count": null,
   "metadata": {
    "scrolled": true
   },
   "outputs": [],
   "source": [
    "\"\"\"\n",
    "Simple demo of the imshow function.\n",
    "\"\"\"\n",
    "import matplotlib.pyplot as plt #the basic module for plotting/displaying figures\n",
    "\n",
    "image = io.imread('images/ada.jpg')\n",
    "\n",
    "fig, ax = plt.subplots()\n",
    "ax.imshow(image)\n",
    "ax.axis('off')  # clear x- and y-axes\n",
    "plt.show()"
   ]
  },
  {
   "cell_type": "code",
   "execution_count": null,
   "metadata": {},
   "outputs": [],
   "source": [
    "\"\"\"\n",
    "Demo of image that's been clipped by a circular patch.\n",
    "\"\"\"\n",
    "import matplotlib.pyplot as plt\n",
    "import matplotlib.patches as patches\n",
    "import matplotlib.cbook as cbook\n",
    "\n",
    "image = io.imread('images/grace_hopper.jpg')\n",
    "\n",
    "# Demo image\n",
    "fig, ax = plt.subplots()\n",
    "ax.imshow(image)\n",
    "ax.axis('off')  # clear x- and y-axes\n",
    "\n",
    "\n",
    "# Adding the circular path\n",
    "fig, ax = plt.subplots()\n",
    "im = ax.imshow(image)\n",
    "patch = patches.Circle((100, 100), radius=90, transform=ax.transData)\n",
    "im.set_clip_path(patch)\n",
    "ax.axis('off')\n",
    "\n",
    "plt.show()\n",
    "\n"
   ]
  },
  {
   "cell_type": "markdown",
   "metadata": {},
   "source": [
    "See how to visualize multiple images:\n",
    "\n",
    "The simples way is as follows:"
   ]
  },
  {
   "cell_type": "code",
   "execution_count": 1,
   "metadata": {},
   "outputs": [
    {
     "ename": "NameError",
     "evalue": "name 'data' is not defined",
     "output_type": "error",
     "traceback": [
      "\u001b[0;31m---------------------------------------------------------------------------\u001b[0m",
      "\u001b[0;31mNameError\u001b[0m                                 Traceback (most recent call last)",
      "\u001b[0;32m<ipython-input-1-a0c208cd82a8>\u001b[0m in \u001b[0;36m<module>\u001b[0;34m\u001b[0m\n\u001b[1;32m      1\u001b[0m \u001b[0;32mfrom\u001b[0m \u001b[0mskimage\u001b[0m \u001b[0;32mimport\u001b[0m \u001b[0mimg_as_uint\u001b[0m\u001b[0;34m\u001b[0m\u001b[0;34m\u001b[0m\u001b[0m\n\u001b[1;32m      2\u001b[0m \u001b[0;34m\u001b[0m\u001b[0m\n\u001b[0;32m----> 3\u001b[0;31m \u001b[0mcat\u001b[0m \u001b[0;34m=\u001b[0m \u001b[0mdata\u001b[0m\u001b[0;34m.\u001b[0m\u001b[0mchelsea\u001b[0m\u001b[0;34m(\u001b[0m\u001b[0;34m)\u001b[0m\u001b[0;34m\u001b[0m\u001b[0;34m\u001b[0m\u001b[0m\n\u001b[0m\u001b[1;32m      4\u001b[0m \u001b[0mfig\u001b[0m \u001b[0;34m=\u001b[0m \u001b[0mplt\u001b[0m\u001b[0;34m.\u001b[0m\u001b[0mfigure\u001b[0m\u001b[0;34m(\u001b[0m\u001b[0mfigsize\u001b[0m\u001b[0;34m=\u001b[0m\u001b[0;34m(\u001b[0m\u001b[0;36m8\u001b[0m\u001b[0;34m,\u001b[0m\u001b[0;36m8\u001b[0m\u001b[0;34m)\u001b[0m\u001b[0;34m)\u001b[0m\u001b[0;34m\u001b[0m\u001b[0;34m\u001b[0m\u001b[0m\n\u001b[1;32m      5\u001b[0m \u001b[0max1\u001b[0m\u001b[0;34m=\u001b[0m\u001b[0mfig\u001b[0m\u001b[0;34m.\u001b[0m\u001b[0madd_subplot\u001b[0m\u001b[0;34m(\u001b[0m\u001b[0;36m2\u001b[0m\u001b[0;34m,\u001b[0m \u001b[0;36m2\u001b[0m\u001b[0;34m,\u001b[0m \u001b[0;36m1\u001b[0m\u001b[0;34m)\u001b[0m\u001b[0;34m\u001b[0m\u001b[0;34m\u001b[0m\u001b[0m\n",
      "\u001b[0;31mNameError\u001b[0m: name 'data' is not defined"
     ]
    }
   ],
   "source": [
    "from skimage import img_as_uint\n",
    "\n",
    "cat = data.chelsea()\n",
    "fig = plt.figure(figsize=(8,8))\n",
    "fig.add_subplot(2, 2, 1)\n",
    "plt.imshow(cat)\n",
    "fig.add_subplot(2, 2, 2)\n",
    "plt.imshow(rgb2gray(cat), cmap='gray')\n",
    "fig.add_subplot(2, 2, 3)\n",
    "plt.imshow(cat*2, vmin=0, vmax=255)\n",
    "fig.add_subplot(2, 2, 4)\n",
    "cat4=cat/2\n",
    "print(cat4.dtype, cat4.min(), cat4.max())\n",
    "plt.imshow(cat4.astype(int), vmin=0, vmax=255)\n",
    "\n",
    "plt.show()"
   ]
  },
  {
   "cell_type": "markdown",
   "metadata": {},
   "source": [
    "Explain the effect of the image processing above"
   ]
  },
  {
   "cell_type": "markdown",
   "metadata": {},
   "source": [
    "Some other examples of multiple plots of figures:"
   ]
  },
  {
   "cell_type": "code",
   "execution_count": null,
   "metadata": {},
   "outputs": [],
   "source": [
    "'''\n",
    "Demo of the streamplot function.\n",
    "\n",
    "A streamplot, or streamline plot, is used to display 2D vector fields. This\n",
    "example shows a few features of the stream plot function:\n",
    "\n",
    "    * Varying the color along a streamline.\n",
    "    * Varying the density of streamlines.\n",
    "    * Varying the line width along a stream line.\n",
    "'''\n",
    "\n",
    "import numpy as np\n",
    "import matplotlib.pyplot as plt\n",
    "\n",
    "Y, X = np.mgrid[-3:3:100j, -3:3:100j] #returns a dense multi-dimensional “meshgrid”.\n",
    "U = -1 - X**2 + Y\n",
    "V = 1 + X - Y**2\n",
    "speed = np.sqrt(U*U + V*V)\n",
    "\n",
    "fig0, ax0 = plt.subplots()\n",
    "strm = ax0.streamplot(X, Y, U, V, color=U, linewidth=2, cmap=plt.cm.autumn) #used to display 2D vector fields\n",
    "fig0.colorbar(strm.lines)\n",
    "\n",
    "fig1, (ax1, ax2) = plt.subplots(ncols=2)\n",
    "ax1.streamplot(X, Y, U, V, density=[0.5, 1])\n",
    "\n",
    "lw = 5*speed / speed.max()\n",
    "ax2.streamplot(X, Y, U, V, density=0.6, color='k', linewidth=lw)\n",
    "\n",
    "plt.show()"
   ]
  },
  {
   "cell_type": "markdown",
   "metadata": {},
   "source": [
    "Another [example](https://matplotlib.org/examples/pylab_examples/image_nonuniform.html) of how to display multiple images:"
   ]
  },
  {
   "cell_type": "code",
   "execution_count": null,
   "metadata": {},
   "outputs": [],
   "source": [
    "'''\n",
    "This illustrates the NonUniformImage class.  It is not\n",
    "available via an Axes method but it is easily added to an\n",
    "Axes instance as shown here.\n",
    "'''\n",
    "\n",
    "import numpy as np\n",
    "import matplotlib.pyplot as plt\n",
    "from matplotlib.image import NonUniformImage\n",
    "from matplotlib import cm\n",
    "\n",
    "interp = 'nearest'\n",
    "\n",
    "# Linear x array for cell centers:\n",
    "x = np.linspace(-4, 4, 9)\n",
    "\n",
    "# Highly nonlinear x array:\n",
    "x2 = x**3\n",
    "\n",
    "y = np.linspace(-4, 4, 9)\n",
    "\n",
    "z = np.sqrt(x[np.newaxis, :]**2 + y[:, np.newaxis]**2)\n",
    "\n",
    "fig, axs = plt.subplots(nrows=2, ncols=2)\n",
    "fig.subplots_adjust(bottom=0.07, hspace=0.3)\n",
    "fig.suptitle('NonUniformImage class', fontsize='large')\n",
    "\n",
    "# Image a)\n",
    "ax = axs[0, 0]\n",
    "im = NonUniformImage(ax, interpolation=interp, extent=(-4, 4, -4, 4),\n",
    "                     cmap=cm.Purples)\n",
    "im.set_data(x, y, z)\n",
    "ax.images.append(im)\n",
    "ax.set_xlim(-4, 4)\n",
    "ax.set_ylim(-4, 4)\n",
    "ax.set_title('a) ' + interp + ' 1')\n",
    "\n",
    "# Image b)\n",
    "ax = axs[0, 1]\n",
    "im = NonUniformImage(ax, interpolation=interp, extent=(-64, 64, -4, 4),\n",
    "                     cmap=cm.Purples)\n",
    "im.set_data(x2, y, z)\n",
    "ax.images.append(im)\n",
    "ax.set_xlim(-64, 64)\n",
    "ax.set_ylim(-4, 4)\n",
    "ax.set_title('b) ' + interp + ' 2')\n",
    "\n",
    "interp = 'bilinear'\n",
    "\n",
    "# Image c)\n",
    "ax = axs[1, 0]\n",
    "im = NonUniformImage(ax, interpolation=interp, extent=(-4, 4, -4, 4),\n",
    "                     cmap=cm.Purples)\n",
    "im.set_data(x, y, z)\n",
    "ax.images.append(im)\n",
    "ax.set_xlim(-4, 4)\n",
    "ax.set_ylim(-4, 4)\n",
    "ax.set_title('c) ' + interp + ' 1')\n",
    "\n",
    "# Image d)\n",
    "ax = axs[1, 1]\n",
    "im = NonUniformImage(ax,  interpolation=interp, extent=(-64, 64, -4, 4),\n",
    "                     cmap=cm.Purples)\n",
    "im.set_data(x2, y, z)\n",
    "ax.images.append(im)\n",
    "ax.set_xlim(-64, 64)\n",
    "ax.set_ylim(-4, 4)\n",
    "ax.set_title('d) ' + interp + ' 2')\n",
    "\n",
    "plt.show()\n"
   ]
  },
  {
   "cell_type": "markdown",
   "metadata": {},
   "source": [
    "Visualize in a figure four images, in 2 rows and 2 columns: a) the astronaut image, b) the astronaut with a black mask, c) the astronaut converted into gray levels and d) the astronaut with double reduced size. Add titles to explain what each image represents to. "
   ]
  },
  {
   "cell_type": "code",
   "execution_count": null,
   "metadata": {},
   "outputs": [],
   "source": [
    "\"\"\"Solution\"\"\""
   ]
  },
  {
   "cell_type": "code",
   "execution_count": null,
   "metadata": {},
   "outputs": [],
   "source": []
  },
  {
   "cell_type": "code",
   "execution_count": null,
   "metadata": {},
   "outputs": [],
   "source": []
  }
 ],
 "metadata": {
  "celltoolbar": "Raw Cell Format",
  "kernelspec": {
   "display_name": "Python 3",
   "language": "python",
   "name": "python3"
  },
  "language_info": {
   "codemirror_mode": {
    "name": "ipython",
    "version": 3
   },
   "file_extension": ".py",
   "mimetype": "text/x-python",
   "name": "python",
   "nbconvert_exporter": "python",
   "pygments_lexer": "ipython3",
   "version": "3.7.3"
  }
 },
 "nbformat": 4,
 "nbformat_minor": 1
}
